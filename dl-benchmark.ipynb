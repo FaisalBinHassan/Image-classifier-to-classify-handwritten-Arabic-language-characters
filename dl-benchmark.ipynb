{
 "cells": [
  {
   "cell_type": "code",
   "execution_count": 1,
   "id": "d23e51fc",
   "metadata": {
    "_cell_guid": "b1076dfc-b9ad-4769-8c92-a6c4dae69d19",
    "_uuid": "8f2839f25d086af736a60e9eeb907d3b93b6e0e5",
    "execution": {
     "iopub.execute_input": "2022-08-25T12:43:43.272573Z",
     "iopub.status.busy": "2022-08-25T12:43:43.271285Z",
     "iopub.status.idle": "2022-08-25T12:43:43.285705Z",
     "shell.execute_reply": "2022-08-25T12:43:43.284660Z"
    },
    "papermill": {
     "duration": 0.022451,
     "end_time": "2022-08-25T12:43:43.287882",
     "exception": false,
     "start_time": "2022-08-25T12:43:43.265431",
     "status": "completed"
    },
    "tags": []
   },
   "outputs": [
    {
     "name": "stdout",
     "output_type": "stream",
     "text": [
      "/kaggle/input/sdaia-kaust-ai-august-school-2022/README.md\n",
      "/kaggle/input/sdaia-kaust-ai-august-school-2022/sample-submission.csv\n",
      "/kaggle/input/sdaia-kaust-ai-august-school-2022/train.csv\n",
      "/kaggle/input/sdaia-kaust-ai-august-school-2022/test.csv\n"
     ]
    }
   ],
   "source": [
    "# This Python 3 environment comes with many helpful analytics libraries installed\n",
    "# It is defined by the kaggle/python Docker image: https://github.com/kaggle/docker-python\n",
    "# For example, here's several helpful packages to load\n",
    "\n",
    "import numpy as np # linear algebra\n",
    "import pandas as pd # data processing, CSV file I/O (e.g. pd.read_csv)\n",
    "\n",
    "# Input data files are available in the read-only \"../input/\" directory\n",
    "# For example, running this (by clicking run or pressing Shift+Enter) will list all files under the input directory\n",
    "\n",
    "import os\n",
    "for dirname, _, filenames in os.walk('/kaggle/input'):\n",
    "    for filename in filenames:\n",
    "        print(os.path.join(dirname, filename))\n",
    "\n",
    "# You can write up to 20GB to the current directory (/kaggle/working/) that gets preserved as output when you create a version using \"Save & Run All\" \n",
    "# You can also write temporary files to /kaggle/temp/, but they won't be saved outside of the current session"
   ]
  },
  {
   "cell_type": "code",
   "execution_count": 2,
   "id": "cedc89ed",
   "metadata": {
    "execution": {
     "iopub.execute_input": "2022-08-25T12:43:43.296471Z",
     "iopub.status.busy": "2022-08-25T12:43:43.295520Z",
     "iopub.status.idle": "2022-08-25T12:43:46.155399Z",
     "shell.execute_reply": "2022-08-25T12:43:46.154372Z"
    },
    "papermill": {
     "duration": 2.866743,
     "end_time": "2022-08-25T12:43:46.158056",
     "exception": false,
     "start_time": "2022-08-25T12:43:43.291313",
     "status": "completed"
    },
    "tags": []
   },
   "outputs": [],
   "source": [
    "import pathlib\n",
    "import matplotlib.pyplot as plt\n",
    "import numpy as np\n",
    "import pandas as pd\n",
    "\n",
    "import torch\n",
    "from torch import nn, optim\n",
    "from torch.nn import functional as F\n",
    "from torch.utils.data import Dataset, DataLoader\n",
    "from torchvision import models, transforms\n",
    "import torchmetrics\n",
    "\n",
    "import torch\n",
    "import torch.nn as nn\n",
    "import torch.nn.functional as F\n",
    "import torch.optim as optim\n",
    "import numpy as np\n",
    "import matplotlib.pyplot as plt\n",
    "from torchvision import models,transforms\n",
    "from torchvision.utils import make_grid\n",
    "from torchvision.datasets import MNIST\n",
    "from torch.utils.data.sampler import SubsetRandomSampler\n",
    "from torch.utils.tensorboard import SummaryWriter\n"
   ]
  },
  {
   "cell_type": "code",
   "execution_count": 3,
   "id": "757ed777",
   "metadata": {
    "execution": {
     "iopub.execute_input": "2022-08-25T12:43:46.168166Z",
     "iopub.status.busy": "2022-08-25T12:43:46.167349Z",
     "iopub.status.idle": "2022-08-25T12:43:47.533975Z",
     "shell.execute_reply": "2022-08-25T12:43:47.532903Z"
    },
    "papermill": {
     "duration": 1.37419,
     "end_time": "2022-08-25T12:43:47.536375",
     "exception": false,
     "start_time": "2022-08-25T12:43:46.162185",
     "status": "completed"
    },
    "tags": []
   },
   "outputs": [],
   "source": [
    "DATA_DIR = pathlib.Path(\"../input/sdaia-kaust-ai-august-school-2022\")\n",
    "\n",
    "\n",
    "train_df = pd.read_csv(DATA_DIR / \"train.csv\", dtype=\"uint8\")\n",
    "test_df = pd.read_csv(DATA_DIR / \"test.csv\", dtype=\"uint8\")\n",
    "\n",
    "\n",
    "train_features = train_df.drop(\"labels\", axis=1)\n",
    "train_target = train_df.loc[:, \"labels\"]"
   ]
  },
  {
   "cell_type": "code",
   "execution_count": 4,
   "id": "247c967f",
   "metadata": {
    "execution": {
     "iopub.execute_input": "2022-08-25T12:43:47.544773Z",
     "iopub.status.busy": "2022-08-25T12:43:47.544453Z",
     "iopub.status.idle": "2022-08-25T12:43:47.552138Z",
     "shell.execute_reply": "2022-08-25T12:43:47.551261Z"
    },
    "papermill": {
     "duration": 0.014353,
     "end_time": "2022-08-25T12:43:47.554333",
     "exception": false,
     "start_time": "2022-08-25T12:43:47.539980",
     "status": "completed"
    },
    "tags": []
   },
   "outputs": [],
   "source": [
    "class DataSetWithTransforms(Dataset):\n",
    "    \n",
    "    def __init__(self, features, target, feature_transforms=None):\n",
    "        super().__init__()\n",
    "        self._features = features\n",
    "        self._target = torch.from_numpy(target).long()\n",
    "        self._feature_transforms = feature_transforms\n",
    "        \n",
    "    def __getitem__(self, index):\n",
    "        if self._feature_transforms is None:\n",
    "            features = self._features[index]\n",
    "            #feature = torch.rashape(feature, (32,32,3))\n",
    "        else: \n",
    "            features = self._feature_transforms(self._features[index])\n",
    "        target = self._target[index]\n",
    "        return (features, target) \n",
    "    \n",
    "    def __len__(self):\n",
    "        n_samples, _ = self._features.shape\n",
    "        return n_samples"
   ]
  },
  {
   "cell_type": "code",
   "execution_count": 5,
   "id": "de1c95c3",
   "metadata": {
    "execution": {
     "iopub.execute_input": "2022-08-25T12:43:47.562289Z",
     "iopub.status.busy": "2022-08-25T12:43:47.561972Z",
     "iopub.status.idle": "2022-08-25T12:43:47.568393Z",
     "shell.execute_reply": "2022-08-25T12:43:47.567490Z"
    },
    "papermill": {
     "duration": 0.012628,
     "end_time": "2022-08-25T12:43:47.570450",
     "exception": false,
     "start_time": "2022-08-25T12:43:47.557822",
     "status": "completed"
    },
    "tags": []
   },
   "outputs": [],
   "source": [
    "class DataSetTest(Dataset):\n",
    "    \n",
    "    def __init__(self, features, feature_transforms=None):\n",
    "        super().__init__()\n",
    "        self._features = features\n",
    "        self._feature_transforms = feature_transforms\n",
    "        \n",
    "    def __getitem__(self, index):\n",
    "        if self._feature_transforms is None:\n",
    "            features = self._features[index]\n",
    "            #feature = torch.rashape(feature, (32,32,3))\n",
    "        else: \n",
    "            features = self._feature_transforms(self._features[index])\n",
    "        return (features) \n",
    "    \n",
    "    def __len__(self):\n",
    "        n_samples, _ = self._features.shape\n",
    "        return n_samples"
   ]
  },
  {
   "cell_type": "code",
   "execution_count": 6,
   "id": "e0ac508b",
   "metadata": {
    "execution": {
     "iopub.execute_input": "2022-08-25T12:43:47.578189Z",
     "iopub.status.busy": "2022-08-25T12:43:47.577930Z",
     "iopub.status.idle": "2022-08-25T12:43:47.583993Z",
     "shell.execute_reply": "2022-08-25T12:43:47.583006Z"
    },
    "papermill": {
     "duration": 0.012211,
     "end_time": "2022-08-25T12:43:47.586075",
     "exception": false,
     "start_time": "2022-08-25T12:43:47.573864",
     "status": "completed"
    },
    "tags": []
   },
   "outputs": [],
   "source": [
    "# data augmentation should only apply to training data\n",
    "_feature_transforms = transforms.Compose([\n",
    "    transforms.Lambda(lambda array: array.reshape((32, 32))),\n",
    "    transforms.ToPILImage(),\n",
    "    transforms.RandomAffine(degrees=15, translate=(0.1, 0.1), shear=15, scale=(1.0, 1.1)),\n",
    "    transforms.ToTensor(),\n",
    "])\n",
    "\n",
    "train_dataset = DataSetWithTransforms(train_features.values, train_target.values, _feature_transforms)"
   ]
  },
  {
   "cell_type": "code",
   "execution_count": 7,
   "id": "5d340439",
   "metadata": {
    "execution": {
     "iopub.execute_input": "2022-08-25T12:43:47.593672Z",
     "iopub.status.busy": "2022-08-25T12:43:47.593342Z",
     "iopub.status.idle": "2022-08-25T12:43:47.599122Z",
     "shell.execute_reply": "2022-08-25T12:43:47.598298Z"
    },
    "papermill": {
     "duration": 0.011763,
     "end_time": "2022-08-25T12:43:47.601028",
     "exception": false,
     "start_time": "2022-08-25T12:43:47.589265",
     "status": "completed"
    },
    "tags": []
   },
   "outputs": [],
   "source": [
    "train_loader=DataLoader(train_dataset,4)"
   ]
  },
  {
   "cell_type": "code",
   "execution_count": 8,
   "id": "668aa5bd",
   "metadata": {
    "execution": {
     "iopub.execute_input": "2022-08-25T12:43:47.610063Z",
     "iopub.status.busy": "2022-08-25T12:43:47.608949Z",
     "iopub.status.idle": "2022-08-25T12:43:47.614601Z",
     "shell.execute_reply": "2022-08-25T12:43:47.613660Z"
    },
    "papermill": {
     "duration": 0.011906,
     "end_time": "2022-08-25T12:43:47.616623",
     "exception": false,
     "start_time": "2022-08-25T12:43:47.604717",
     "status": "completed"
    },
    "tags": []
   },
   "outputs": [],
   "source": [
    "# conveting test data only to tensor images should only apply to training data\n",
    "_feature_transforms_test = transforms.Compose([\n",
    "    transforms.Lambda(lambda array: array.reshape((32, 32))),\n",
    "    transforms.ToPILImage(),\n",
    "    transforms.ToTensor(),\n",
    "])\n",
    "\n",
    "test_dataset = DataSetTest(test_df.values, _feature_transforms_test)"
   ]
  },
  {
   "cell_type": "code",
   "execution_count": 9,
   "id": "bd2d556a",
   "metadata": {
    "execution": {
     "iopub.execute_input": "2022-08-25T12:43:47.624653Z",
     "iopub.status.busy": "2022-08-25T12:43:47.624351Z",
     "iopub.status.idle": "2022-08-25T12:43:47.628353Z",
     "shell.execute_reply": "2022-08-25T12:43:47.627362Z"
    },
    "papermill": {
     "duration": 0.010268,
     "end_time": "2022-08-25T12:43:47.630389",
     "exception": false,
     "start_time": "2022-08-25T12:43:47.620121",
     "status": "completed"
    },
    "tags": []
   },
   "outputs": [],
   "source": [
    "test_loader=DataLoader(test_dataset,4)"
   ]
  },
  {
   "cell_type": "code",
   "execution_count": 10,
   "id": "f035a293",
   "metadata": {
    "execution": {
     "iopub.execute_input": "2022-08-25T12:43:47.638167Z",
     "iopub.status.busy": "2022-08-25T12:43:47.637914Z",
     "iopub.status.idle": "2022-08-25T12:43:47.646733Z",
     "shell.execute_reply": "2022-08-25T12:43:47.645899Z"
    },
    "papermill": {
     "duration": 0.014886,
     "end_time": "2022-08-25T12:43:47.648640",
     "exception": false,
     "start_time": "2022-08-25T12:43:47.633754",
     "status": "completed"
    },
    "tags": []
   },
   "outputs": [],
   "source": [
    "class ConvNet(nn.Module):\n",
    "    def __init__(self):\n",
    "        super().__init__()\n",
    "        self.conv1 = nn.Conv2d(1, 20, 5, 1)\n",
    "        self.conv2 = nn.Conv2d(20, 50, 5, 1)\n",
    "        self.l1 = nn.Linear(5 * 5 * 50, 1000)\n",
    "        self.l2 = nn.Linear(1000, 500)\n",
    "        self.l3 = nn.Linear(500, 29)\n",
    "\n",
    "    def forward(self, x):\n",
    "        x = self.conv1(x)\n",
    "        x = F.relu(x)\n",
    "        x = F.max_pool2d(x, (2, 2))\n",
    "        x = self.conv2(x)\n",
    "        x = F.relu(x)\n",
    "        x = F.max_pool2d(x, (2, 2))\n",
    "        x = x.view(-1, 5 * 5 * 50)\n",
    "        x = self.l1(x)\n",
    "        x = F.relu(x)\n",
    "        x = self.l2(x)\n",
    "        x = F.relu(x)\n",
    "        x = self.l3(x)\n",
    "        return x"
   ]
  },
  {
   "cell_type": "code",
   "execution_count": 11,
   "id": "89987372",
   "metadata": {
    "execution": {
     "iopub.execute_input": "2022-08-25T12:43:47.657670Z",
     "iopub.status.busy": "2022-08-25T12:43:47.656261Z",
     "iopub.status.idle": "2022-08-25T13:43:26.356094Z",
     "shell.execute_reply": "2022-08-25T13:43:26.355079Z"
    },
    "papermill": {
     "duration": 3578.713974,
     "end_time": "2022-08-25T13:43:26.365994",
     "exception": false,
     "start_time": "2022-08-25T12:43:47.652020",
     "status": "completed"
    },
    "tags": []
   },
   "outputs": [
    {
     "name": "stdout",
     "output_type": "stream",
     "text": [
      "Adjusting learning rate of group 0 to 1.0000e-01.\n",
      "Adjusting learning rate of group 0 to 9.0000e-02.\n",
      "Iteataion 0: Training Accuracy: 29.977678571428573%\n",
      "Adjusting learning rate of group 0 to 8.1000e-02.\n",
      "Iteataion 1: Training Accuracy: 63.90625%\n",
      "Adjusting learning rate of group 0 to 7.2900e-02.\n",
      "Iteataion 2: Training Accuracy: 76.36904761904762%\n",
      "Adjusting learning rate of group 0 to 6.5610e-02.\n",
      "Iteataion 3: Training Accuracy: 82.3139880952381%\n",
      "Adjusting learning rate of group 0 to 5.9049e-02.\n",
      "Iteataion 4: Training Accuracy: 85.84821428571429%\n",
      "Adjusting learning rate of group 0 to 5.3144e-02.\n",
      "Iteataion 5: Training Accuracy: 88.02083333333334%\n",
      "Adjusting learning rate of group 0 to 4.7830e-02.\n",
      "Iteataion 6: Training Accuracy: 89.59077380952381%\n",
      "Adjusting learning rate of group 0 to 4.3047e-02.\n",
      "Iteataion 7: Training Accuracy: 90.69196428571429%\n",
      "Adjusting learning rate of group 0 to 3.8742e-02.\n",
      "Iteataion 8: Training Accuracy: 91.59970238095238%\n",
      "Adjusting learning rate of group 0 to 3.4868e-02.\n",
      "Iteataion 9: Training Accuracy: 92.69345238095238%\n",
      "Adjusting learning rate of group 0 to 3.1381e-02.\n",
      "Iteataion 10: Training Accuracy: 92.98363095238096%\n",
      "Adjusting learning rate of group 0 to 2.8243e-02.\n",
      "Iteataion 11: Training Accuracy: 93.74255952380952%\n",
      "Adjusting learning rate of group 0 to 2.5419e-02.\n",
      "Iteataion 12: Training Accuracy: 94.23363095238095%\n",
      "Adjusting learning rate of group 0 to 2.2877e-02.\n",
      "Iteataion 13: Training Accuracy: 94.83630952380952%\n",
      "Adjusting learning rate of group 0 to 2.0589e-02.\n",
      "Iteataion 14: Training Accuracy: 95.17113095238095%\n",
      "Adjusting learning rate of group 0 to 1.8530e-02.\n",
      "Iteataion 15: Training Accuracy: 95.3125%\n",
      "Adjusting learning rate of group 0 to 1.6677e-02.\n",
      "Iteataion 16: Training Accuracy: 95.55059523809524%\n",
      "Adjusting learning rate of group 0 to 1.5009e-02.\n",
      "Iteataion 17: Training Accuracy: 95.92261904761905%\n",
      "Adjusting learning rate of group 0 to 1.3509e-02.\n",
      "Iteataion 18: Training Accuracy: 95.98214285714286%\n",
      "Adjusting learning rate of group 0 to 1.2158e-02.\n",
      "Iteataion 19: Training Accuracy: 96.3764880952381%\n",
      "Adjusting learning rate of group 0 to 1.0942e-02.\n",
      "Iteataion 20: Training Accuracy: 96.54017857142857%\n",
      "Adjusting learning rate of group 0 to 9.8477e-03.\n",
      "Iteataion 21: Training Accuracy: 96.79315476190476%\n",
      "Adjusting learning rate of group 0 to 8.8629e-03.\n",
      "Iteataion 22: Training Accuracy: 96.89732142857143%\n",
      "Adjusting learning rate of group 0 to 7.9766e-03.\n",
      "Iteataion 23: Training Accuracy: 96.97916666666667%\n",
      "Adjusting learning rate of group 0 to 7.1790e-03.\n",
      "Iteataion 24: Training Accuracy: 96.8452380952381%\n",
      "Adjusting learning rate of group 0 to 6.4611e-03.\n",
      "Iteataion 25: Training Accuracy: 97.15029761904762%\n",
      "Adjusting learning rate of group 0 to 5.8150e-03.\n",
      "Iteataion 26: Training Accuracy: 97.1875%\n",
      "Adjusting learning rate of group 0 to 5.2335e-03.\n",
      "Iteataion 27: Training Accuracy: 97.35119047619048%\n",
      "Adjusting learning rate of group 0 to 4.7101e-03.\n",
      "Iteataion 28: Training Accuracy: 97.33630952380953%\n",
      "Adjusting learning rate of group 0 to 4.2391e-03.\n",
      "Iteataion 29: Training Accuracy: 97.36607142857143%\n",
      "Adjusting learning rate of group 0 to 3.8152e-03.\n",
      "Iteataion 30: Training Accuracy: 97.72321428571429%\n",
      "Adjusting learning rate of group 0 to 3.4337e-03.\n",
      "Iteataion 31: Training Accuracy: 97.72321428571429%\n",
      "Adjusting learning rate of group 0 to 3.0903e-03.\n",
      "Iteataion 32: Training Accuracy: 97.86458333333333%\n",
      "Adjusting learning rate of group 0 to 2.7813e-03.\n",
      "Iteataion 33: Training Accuracy: 97.80505952380952%\n",
      "Adjusting learning rate of group 0 to 2.5032e-03.\n",
      "Iteataion 34: Training Accuracy: 97.91666666666666%\n",
      "Adjusting learning rate of group 0 to 2.2528e-03.\n",
      "Iteataion 35: Training Accuracy: 97.76041666666667%\n",
      "Adjusting learning rate of group 0 to 2.0276e-03.\n",
      "Iteataion 36: Training Accuracy: 97.75297619047619%\n",
      "Adjusting learning rate of group 0 to 1.8248e-03.\n",
      "Iteataion 37: Training Accuracy: 97.95386904761905%\n",
      "Adjusting learning rate of group 0 to 1.6423e-03.\n",
      "Iteataion 38: Training Accuracy: 97.6264880952381%\n",
      "Adjusting learning rate of group 0 to 1.4781e-03.\n",
      "Iteataion 39: Training Accuracy: 97.99107142857143%\n",
      "Adjusting learning rate of group 0 to 1.3303e-03.\n",
      "Iteataion 40: Training Accuracy: 97.99851190476191%\n",
      "Adjusting learning rate of group 0 to 1.1973e-03.\n",
      "Iteataion 41: Training Accuracy: 98.03571428571428%\n",
      "Adjusting learning rate of group 0 to 1.0775e-03.\n",
      "Iteataion 42: Training Accuracy: 97.81994047619048%\n",
      "Adjusting learning rate of group 0 to 9.6977e-04.\n",
      "Iteataion 43: Training Accuracy: 98.09523809523809%\n",
      "Adjusting learning rate of group 0 to 8.7280e-04.\n",
      "Iteataion 44: Training Accuracy: 98.06547619047619%\n",
      "Adjusting learning rate of group 0 to 7.8552e-04.\n",
      "Iteataion 45: Training Accuracy: 98.13244047619048%\n",
      "Adjusting learning rate of group 0 to 7.0697e-04.\n",
      "Iteataion 46: Training Accuracy: 98.09523809523809%\n",
      "Adjusting learning rate of group 0 to 6.3627e-04.\n",
      "Iteataion 47: Training Accuracy: 97.99107142857143%\n",
      "Adjusting learning rate of group 0 to 5.7264e-04.\n",
      "Iteataion 48: Training Accuracy: 98.28869047619048%\n",
      "Adjusting learning rate of group 0 to 5.1538e-04.\n",
      "Iteataion 49: Training Accuracy: 98.33333333333333%\n",
      "Adjusting learning rate of group 0 to 4.6384e-04.\n",
      "Iteataion 50: Training Accuracy: 98.04315476190476%\n",
      "Adjusting learning rate of group 0 to 4.1746e-04.\n",
      "Iteataion 51: Training Accuracy: 98.16964285714286%\n",
      "Adjusting learning rate of group 0 to 3.7571e-04.\n",
      "Iteataion 52: Training Accuracy: 97.98363095238095%\n",
      "Adjusting learning rate of group 0 to 3.3814e-04.\n",
      "Iteataion 53: Training Accuracy: 98.05059523809524%\n",
      "Adjusting learning rate of group 0 to 3.0433e-04.\n",
      "Iteataion 54: Training Accuracy: 98.32589285714286%\n",
      "Adjusting learning rate of group 0 to 2.7389e-04.\n",
      "Iteataion 55: Training Accuracy: 98.14732142857143%\n",
      "Adjusting learning rate of group 0 to 2.4650e-04.\n",
      "Iteataion 56: Training Accuracy: 98.16220238095238%\n",
      "Adjusting learning rate of group 0 to 2.2185e-04.\n",
      "Iteataion 57: Training Accuracy: 98.02083333333333%\n",
      "Adjusting learning rate of group 0 to 1.9967e-04.\n",
      "Iteataion 58: Training Accuracy: 98.20684523809524%\n",
      "Adjusting learning rate of group 0 to 1.7970e-04.\n",
      "Iteataion 59: Training Accuracy: 98.19940476190476%\n",
      "Adjusting learning rate of group 0 to 1.6173e-04.\n",
      "Iteataion 60: Training Accuracy: 98.06547619047619%\n",
      "Adjusting learning rate of group 0 to 1.4556e-04.\n",
      "Iteataion 61: Training Accuracy: 98.18452380952381%\n",
      "Adjusting learning rate of group 0 to 1.3100e-04.\n",
      "Iteataion 62: Training Accuracy: 98.17708333333334%\n",
      "Adjusting learning rate of group 0 to 1.1790e-04.\n",
      "Iteataion 63: Training Accuracy: 98.30357142857142%\n",
      "Adjusting learning rate of group 0 to 1.0611e-04.\n",
      "Iteataion 64: Training Accuracy: 98.25148809523809%\n",
      "Adjusting learning rate of group 0 to 9.5500e-05.\n",
      "Iteataion 65: Training Accuracy: 98.31845238095238%\n",
      "Adjusting learning rate of group 0 to 8.5950e-05.\n",
      "Iteataion 66: Training Accuracy: 98.05803571428572%\n",
      "Adjusting learning rate of group 0 to 7.7355e-05.\n",
      "Iteataion 67: Training Accuracy: 98.23660714285715%\n",
      "Adjusting learning rate of group 0 to 6.9620e-05.\n",
      "Iteataion 68: Training Accuracy: 98.125%\n",
      "Adjusting learning rate of group 0 to 6.2658e-05.\n",
      "Iteataion 69: Training Accuracy: 98.06547619047619%\n",
      "Adjusting learning rate of group 0 to 5.6392e-05.\n",
      "Iteataion 70: Training Accuracy: 97.90178571428572%\n",
      "Adjusting learning rate of group 0 to 5.0753e-05.\n",
      "Iteataion 71: Training Accuracy: 98.1547619047619%\n",
      "Adjusting learning rate of group 0 to 4.5678e-05.\n",
      "Iteataion 72: Training Accuracy: 98.19196428571428%\n",
      "Adjusting learning rate of group 0 to 4.1110e-05.\n",
      "Iteataion 73: Training Accuracy: 98.29613095238095%\n",
      "Adjusting learning rate of group 0 to 3.6999e-05.\n",
      "Iteataion 74: Training Accuracy: 98.13244047619048%\n",
      "Adjusting learning rate of group 0 to 3.3299e-05.\n",
      "Iteataion 75: Training Accuracy: 98.08779761904762%\n",
      "Adjusting learning rate of group 0 to 2.9969e-05.\n",
      "Iteataion 76: Training Accuracy: 98.09523809523809%\n",
      "Adjusting learning rate of group 0 to 2.6972e-05.\n",
      "Iteataion 77: Training Accuracy: 98.17708333333334%\n",
      "Adjusting learning rate of group 0 to 2.4275e-05.\n",
      "Iteataion 78: Training Accuracy: 98.1547619047619%\n",
      "Adjusting learning rate of group 0 to 2.1847e-05.\n",
      "Iteataion 79: Training Accuracy: 98.3110119047619%\n",
      "Adjusting learning rate of group 0 to 1.9663e-05.\n",
      "Iteataion 80: Training Accuracy: 98.16220238095238%\n",
      "Adjusting learning rate of group 0 to 1.7696e-05.\n",
      "Iteataion 81: Training Accuracy: 98.1547619047619%\n",
      "Adjusting learning rate of group 0 to 1.5927e-05.\n",
      "Iteataion 82: Training Accuracy: 98.13988095238095%\n",
      "Adjusting learning rate of group 0 to 1.4334e-05.\n",
      "Iteataion 83: Training Accuracy: 98.18452380952381%\n",
      "Adjusting learning rate of group 0 to 1.2901e-05.\n",
      "Iteataion 84: Training Accuracy: 98.28125%\n",
      "Adjusting learning rate of group 0 to 1.1611e-05.\n",
      "Iteataion 85: Training Accuracy: 98.27380952380952%\n",
      "Adjusting learning rate of group 0 to 1.0450e-05.\n",
      "Iteataion 86: Training Accuracy: 98.24404761904762%\n",
      "Adjusting learning rate of group 0 to 9.4046e-06.\n",
      "Iteataion 87: Training Accuracy: 98.23660714285715%\n",
      "Adjusting learning rate of group 0 to 8.4641e-06.\n",
      "Iteataion 88: Training Accuracy: 98.27380952380952%\n",
      "Adjusting learning rate of group 0 to 7.6177e-06.\n",
      "Iteataion 89: Training Accuracy: 98.19196428571428%\n",
      "Adjusting learning rate of group 0 to 6.8560e-06.\n",
      "Iteataion 90: Training Accuracy: 98.24404761904762%\n",
      "Adjusting learning rate of group 0 to 6.1704e-06.\n",
      "Iteataion 91: Training Accuracy: 98.04315476190476%\n",
      "Adjusting learning rate of group 0 to 5.5533e-06.\n",
      "Iteataion 92: Training Accuracy: 98.28125%\n",
      "Adjusting learning rate of group 0 to 4.9980e-06.\n",
      "Iteataion 93: Training Accuracy: 98.21428571428571%\n",
      "Adjusting learning rate of group 0 to 4.4982e-06.\n",
      "Iteataion 94: Training Accuracy: 98.37053571428571%\n",
      "Adjusting learning rate of group 0 to 4.0484e-06.\n",
      "Iteataion 95: Training Accuracy: 98.08779761904762%\n",
      "Adjusting learning rate of group 0 to 3.6435e-06.\n",
      "Iteataion 96: Training Accuracy: 98.25892857142857%\n",
      "Adjusting learning rate of group 0 to 3.2792e-06.\n",
      "Iteataion 97: Training Accuracy: 98.14732142857143%\n",
      "Adjusting learning rate of group 0 to 2.9513e-06.\n",
      "Iteataion 98: Training Accuracy: 97.95386904761905%\n",
      "Adjusting learning rate of group 0 to 2.6561e-06.\n",
      "Iteataion 99: Training Accuracy: 98.4077380952381%\n"
     ]
    },
    {
     "data": {
      "image/png": "[encoded data removed]",
      "text/plain": [
       "<Figure size 432x288 with 1 Axes>"
      ]
     },
     "metadata": {
      "needs_background": "light"
     },
     "output_type": "display_data"
    }
   ],
   "source": [
    "net = models.resnet18(num_classes=29)\n",
    "\n",
    "net.conv1 = nn.Conv2d(1, 64, kernel_size=(3, 3), stride=(2, 2), padding=(3, 3), bias=False)\n",
    "device=torch.device('cuda:0')\n",
    "\n",
    "net=net.to(device)\n",
    "lr=0.1\n",
    "momentum=0.0\n",
    "\n",
    "optimizer = optim.SGD(net.parameters(), lr=lr, momentum=momentum)\n",
    "lr_scheduler = optim.lr_scheduler.ExponentialLR(optimizer, gamma=0.9, verbose=True)\n",
    "\n",
    "ls = []\n",
    "for i in range(100):\n",
    "    loss_total = 0\n",
    "    loss_val = 0\n",
    "    acc_train = 0\n",
    "    total_train = 0\n",
    "    for ii, batch in enumerate(train_loader):\n",
    "        data = batch[0]\n",
    "        label = batch[1]\n",
    "\n",
    "        optimizer.zero_grad()\n",
    "        data, label = data.to(device), label.to(device)\n",
    "        logits = net(data)\n",
    "        loss = F.cross_entropy(logits, label)\n",
    "        loss_total += loss.item()\n",
    "        loss.backward()\n",
    "        optimizer.step()\n",
    "        out = torch.argmax(logits, dim=1)\n",
    "        acc_train += torch.sum(out == label)\n",
    "        total_train += logits.shape[0]\n",
    "    ls.append(loss_total)\n",
    "    lr_scheduler.step()\n",
    "    print(f\"Iteataion {i}: Training Accuracy: {acc_train.item() / total_train * 100}%\")\n",
    "\n",
    "plt.plot(ls)\n",
    "plt.show(block=True)\n",
    "test_loader = DataLoader(test_dataset, 64)\n",
    "\n",
    "predictions_list = list()\n"
   ]
  },
  {
   "cell_type": "code",
   "execution_count": 12,
   "id": "af12f4ac",
   "metadata": {
    "execution": {
     "iopub.execute_input": "2022-08-25T13:43:26.385190Z",
     "iopub.status.busy": "2022-08-25T13:43:26.384897Z",
     "iopub.status.idle": "2022-08-25T13:43:43.752211Z",
     "shell.execute_reply": "2022-08-25T13:43:43.750357Z"
    },
    "papermill": {
     "duration": 17.379452,
     "end_time": "2022-08-25T13:43:43.754578",
     "exception": false,
     "start_time": "2022-08-25T13:43:26.375126",
     "status": "completed"
    },
    "tags": []
   },
   "outputs": [
    {
     "name": "stdout",
     "output_type": "stream",
     "text": [
      "98.28869047619048\n"
     ]
    }
   ],
   "source": [
    "correct = 0 \n",
    "total = 0 \n",
    "\n",
    "for batch in train_loader:\n",
    "    with torch.no_grad():\n",
    "        x= batch [0].to (device)\n",
    "        y= batch[1].to(device)\n",
    "\n",
    "        correct +=( net(x).argmax(1)==y).sum().item()\n",
    "        total+= x.shape[0]\n",
    "print(correct/total*100)"
   ]
  },
  {
   "cell_type": "code",
   "execution_count": 13,
   "id": "f948b45a",
   "metadata": {
    "execution": {
     "iopub.execute_input": "2022-08-25T13:43:43.774917Z",
     "iopub.status.busy": "2022-08-25T13:43:43.774102Z",
     "iopub.status.idle": "2022-08-25T13:43:44.641901Z",
     "shell.execute_reply": "2022-08-25T13:43:44.640927Z"
    },
    "papermill": {
     "duration": 0.880092,
     "end_time": "2022-08-25T13:43:44.644378",
     "exception": false,
     "start_time": "2022-08-25T13:43:43.764286",
     "status": "completed"
    },
    "tags": []
   },
   "outputs": [],
   "source": [
    "prediction_list = list()\n",
    "with torch.no_grad():\n",
    "    for i,batch in enumerate(test_loader):\n",
    "        data=batch\n",
    "        data= data.to(device)\n",
    "        logits = net(data)\n",
    "        out=torch.argmax(logits, dim=1)\n",
    "        prediction_list.append(out)\n",
    "prediction_list = torch.cat(prediction_list).cpu()\n",
    "\n",
    "test_features = pd.read_csv(DATA_DIR / \"test.csv\")\n",
    "_ = (pd.DataFrame\n",
    "       .from_dict({\"Id\": test_features.index, \"Category\": prediction_list})\n",
    "       .to_csv(\"submission.csv\", index=False))\n",
    "\n",
    "## alternatively you could replace test_features.index by torch.arange(3360)"
   ]
  },
  {
   "cell_type": "code",
   "execution_count": null,
   "id": "3be8fab3",
   "metadata": {
    "papermill": {
     "duration": 0.008662,
     "end_time": "2022-08-25T13:43:44.662330",
     "exception": false,
     "start_time": "2022-08-25T13:43:44.653668",
     "status": "completed"
    },
    "tags": []
   },
   "outputs": [],
   "source": []
  }
 ],
 "metadata": {
  "kernelspec": {
   "display_name": "Python 3",
   "language": "python",
   "name": "python3"
  },
  "language_info": {
   "codemirror_mode": {
    "name": "ipython",
    "version": 3
   },
   "file_extension": ".py",
   "mimetype": "text/x-python",
   "name": "python",
   "nbconvert_exporter": "python",
   "pygments_lexer": "ipython3",
   "version": "3.7.12"
  },
  "papermill": {
   "default_parameters": {},
   "duration": 3610.6869,
   "end_time": "2022-08-25T13:43:46.100630",
   "environment_variables": {},
   "exception": null,
   "input_path": "__notebook__.ipynb",
   "output_path": "__notebook__.ipynb",
   "parameters": {},
   "start_time": "2022-08-25T12:43:35.413730",
   "version": "2.3.4"
  }
 },
 "nbformat": 4,
 "nbformat_minor": 5
}
