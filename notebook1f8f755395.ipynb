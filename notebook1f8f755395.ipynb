{
 "cells": [
  {
   "cell_type": "code",
   "execution_count": 1,
   "id": "37ee83ec",
   "metadata": {
    "_cell_guid": "b1076dfc-b9ad-4769-8c92-a6c4dae69d19",
    "_uuid": "8f2839f25d086af736a60e9eeb907d3b93b6e0e5",
    "execution": {
     "iopub.execute_input": "2022-08-25T07:40:53.778330Z",
     "iopub.status.busy": "2022-08-25T07:40:53.776975Z",
     "iopub.status.idle": "2022-08-25T07:40:55.132542Z",
     "shell.execute_reply": "2022-08-25T07:40:55.131087Z"
    },
    "papermill": {
     "duration": 1.366872,
     "end_time": "2022-08-25T07:40:55.135546",
     "exception": false,
     "start_time": "2022-08-25T07:40:53.768674",
     "status": "completed"
    },
    "tags": []
   },
   "outputs": [],
   "source": [
    "import pathlib\n",
    "\n",
    "import numpy as np\n",
    "import pandas as pd\n",
    "from sklearn import metrics, model_selection, tree"
   ]
  },
  {
   "cell_type": "markdown",
   "id": "5996da6b",
   "metadata": {
    "papermill": {
     "duration": 0.004766,
     "end_time": "2022-08-25T07:40:55.145716",
     "exception": false,
     "start_time": "2022-08-25T07:40:55.140950",
     "status": "completed"
    },
    "tags": []
   },
   "source": [
    "# Load the data"
   ]
  },
  {
   "cell_type": "code",
   "execution_count": 2,
   "id": "933a8fcc",
   "metadata": {
    "execution": {
     "iopub.execute_input": "2022-08-25T07:40:55.158074Z",
     "iopub.status.busy": "2022-08-25T07:40:55.157335Z",
     "iopub.status.idle": "2022-08-25T07:40:56.927726Z",
     "shell.execute_reply": "2022-08-25T07:40:56.926407Z"
    },
    "papermill": {
     "duration": 1.779981,
     "end_time": "2022-08-25T07:40:56.930830",
     "exception": false,
     "start_time": "2022-08-25T07:40:55.150849",
     "status": "completed"
    },
    "tags": []
   },
   "outputs": [],
   "source": [
    "DATA_DIR = pathlib.Path(\"../input/sdaia-kaust-ai-august-school-2022\")\n",
    "\n",
    "# training data contains both features and labels\n",
    "train_df = pd.read_csv(DATA_DIR / \"train.csv\")\n",
    "\n",
    "# split training data into features and target\n",
    "train_features = train_df.drop(\"labels\", axis=1)\n",
    "train_target = train_df.loc[:, \"labels\"]\n",
    "\n",
    "# testing data contains only features\n",
    "test_features = pd.read_csv(DATA_DIR / \"test.csv\")"
   ]
  },
  {
   "cell_type": "code",
   "execution_count": 3,
   "id": "1626dd64",
   "metadata": {
    "execution": {
     "iopub.execute_input": "2022-08-25T07:40:56.942862Z",
     "iopub.status.busy": "2022-08-25T07:40:56.942447Z",
     "iopub.status.idle": "2022-08-25T07:40:56.968333Z",
     "shell.execute_reply": "2022-08-25T07:40:56.967227Z"
    },
    "papermill": {
     "duration": 0.035765,
     "end_time": "2022-08-25T07:40:56.971832",
     "exception": false,
     "start_time": "2022-08-25T07:40:56.936067",
     "status": "completed"
    },
    "tags": []
   },
   "outputs": [
    {
     "data": {
      "text/html": [
       "<div>\n",
       "<style scoped>\n",
       "    .dataframe tbody tr th:only-of-type {\n",
       "        vertical-align: middle;\n",
       "    }\n",
       "\n",
       "    .dataframe tbody tr th {\n",
       "        vertical-align: top;\n",
       "    }\n",
       "\n",
       "    .dataframe thead th {\n",
       "        text-align: right;\n",
       "    }\n",
       "</style>\n",
       "<table border=\"1\" class=\"dataframe\">\n",
       "  <thead>\n",
       "    <tr style=\"text-align: right;\">\n",
       "      <th></th>\n",
       "      <th>p0</th>\n",
       "      <th>p1</th>\n",
       "      <th>p2</th>\n",
       "      <th>p3</th>\n",
       "      <th>p4</th>\n",
       "      <th>p5</th>\n",
       "      <th>p6</th>\n",
       "      <th>p7</th>\n",
       "      <th>p8</th>\n",
       "      <th>p9</th>\n",
       "      <th>...</th>\n",
       "      <th>p1014</th>\n",
       "      <th>p1015</th>\n",
       "      <th>p1016</th>\n",
       "      <th>p1017</th>\n",
       "      <th>p1018</th>\n",
       "      <th>p1019</th>\n",
       "      <th>p1020</th>\n",
       "      <th>p1021</th>\n",
       "      <th>p1022</th>\n",
       "      <th>p1023</th>\n",
       "    </tr>\n",
       "  </thead>\n",
       "  <tbody>\n",
       "    <tr>\n",
       "      <th>0</th>\n",
       "      <td>0</td>\n",
       "      <td>0</td>\n",
       "      <td>0</td>\n",
       "      <td>0</td>\n",
       "      <td>0</td>\n",
       "      <td>0</td>\n",
       "      <td>0</td>\n",
       "      <td>0</td>\n",
       "      <td>0</td>\n",
       "      <td>0</td>\n",
       "      <td>...</td>\n",
       "      <td>0</td>\n",
       "      <td>0</td>\n",
       "      <td>0</td>\n",
       "      <td>0</td>\n",
       "      <td>0</td>\n",
       "      <td>0</td>\n",
       "      <td>0</td>\n",
       "      <td>0</td>\n",
       "      <td>0</td>\n",
       "      <td>0</td>\n",
       "    </tr>\n",
       "    <tr>\n",
       "      <th>1</th>\n",
       "      <td>0</td>\n",
       "      <td>0</td>\n",
       "      <td>0</td>\n",
       "      <td>0</td>\n",
       "      <td>0</td>\n",
       "      <td>0</td>\n",
       "      <td>0</td>\n",
       "      <td>0</td>\n",
       "      <td>0</td>\n",
       "      <td>0</td>\n",
       "      <td>...</td>\n",
       "      <td>0</td>\n",
       "      <td>0</td>\n",
       "      <td>0</td>\n",
       "      <td>0</td>\n",
       "      <td>0</td>\n",
       "      <td>0</td>\n",
       "      <td>0</td>\n",
       "      <td>0</td>\n",
       "      <td>0</td>\n",
       "      <td>0</td>\n",
       "    </tr>\n",
       "    <tr>\n",
       "      <th>2</th>\n",
       "      <td>0</td>\n",
       "      <td>0</td>\n",
       "      <td>0</td>\n",
       "      <td>0</td>\n",
       "      <td>0</td>\n",
       "      <td>0</td>\n",
       "      <td>0</td>\n",
       "      <td>0</td>\n",
       "      <td>0</td>\n",
       "      <td>0</td>\n",
       "      <td>...</td>\n",
       "      <td>0</td>\n",
       "      <td>0</td>\n",
       "      <td>0</td>\n",
       "      <td>0</td>\n",
       "      <td>0</td>\n",
       "      <td>0</td>\n",
       "      <td>0</td>\n",
       "      <td>0</td>\n",
       "      <td>0</td>\n",
       "      <td>0</td>\n",
       "    </tr>\n",
       "    <tr>\n",
       "      <th>3</th>\n",
       "      <td>0</td>\n",
       "      <td>0</td>\n",
       "      <td>0</td>\n",
       "      <td>0</td>\n",
       "      <td>0</td>\n",
       "      <td>0</td>\n",
       "      <td>0</td>\n",
       "      <td>0</td>\n",
       "      <td>0</td>\n",
       "      <td>0</td>\n",
       "      <td>...</td>\n",
       "      <td>0</td>\n",
       "      <td>0</td>\n",
       "      <td>0</td>\n",
       "      <td>0</td>\n",
       "      <td>0</td>\n",
       "      <td>0</td>\n",
       "      <td>0</td>\n",
       "      <td>0</td>\n",
       "      <td>0</td>\n",
       "      <td>0</td>\n",
       "    </tr>\n",
       "    <tr>\n",
       "      <th>4</th>\n",
       "      <td>0</td>\n",
       "      <td>0</td>\n",
       "      <td>0</td>\n",
       "      <td>0</td>\n",
       "      <td>0</td>\n",
       "      <td>0</td>\n",
       "      <td>0</td>\n",
       "      <td>0</td>\n",
       "      <td>0</td>\n",
       "      <td>0</td>\n",
       "      <td>...</td>\n",
       "      <td>0</td>\n",
       "      <td>0</td>\n",
       "      <td>0</td>\n",
       "      <td>0</td>\n",
       "      <td>0</td>\n",
       "      <td>0</td>\n",
       "      <td>0</td>\n",
       "      <td>0</td>\n",
       "      <td>0</td>\n",
       "      <td>0</td>\n",
       "    </tr>\n",
       "  </tbody>\n",
       "</table>\n",
       "<p>5 rows × 1024 columns</p>\n",
       "</div>"
      ],
      "text/plain": [
       "   p0  p1  p2  p3  p4  p5  p6  p7  p8  p9  ...  p1014  p1015  p1016  p1017  \\\n",
       "0   0   0   0   0   0   0   0   0   0   0  ...      0      0      0      0   \n",
       "1   0   0   0   0   0   0   0   0   0   0  ...      0      0      0      0   \n",
       "2   0   0   0   0   0   0   0   0   0   0  ...      0      0      0      0   \n",
       "3   0   0   0   0   0   0   0   0   0   0  ...      0      0      0      0   \n",
       "4   0   0   0   0   0   0   0   0   0   0  ...      0      0      0      0   \n",
       "\n",
       "   p1018  p1019  p1020  p1021  p1022  p1023  \n",
       "0      0      0      0      0      0      0  \n",
       "1      0      0      0      0      0      0  \n",
       "2      0      0      0      0      0      0  \n",
       "3      0      0      0      0      0      0  \n",
       "4      0      0      0      0      0      0  \n",
       "\n",
       "[5 rows x 1024 columns]"
      ]
     },
     "execution_count": 3,
     "metadata": {},
     "output_type": "execute_result"
    }
   ],
   "source": [
    "train_features.head()"
   ]
  },
  {
   "cell_type": "code",
   "execution_count": 4,
   "id": "21a4583f",
   "metadata": {
    "execution": {
     "iopub.execute_input": "2022-08-25T07:40:56.985401Z",
     "iopub.status.busy": "2022-08-25T07:40:56.984553Z",
     "iopub.status.idle": "2022-08-25T07:40:56.992302Z",
     "shell.execute_reply": "2022-08-25T07:40:56.991165Z"
    },
    "papermill": {
     "duration": 0.016833,
     "end_time": "2022-08-25T07:40:56.994623",
     "exception": false,
     "start_time": "2022-08-25T07:40:56.977790",
     "status": "completed"
    },
    "tags": []
   },
   "outputs": [
    {
     "data": {
      "text/plain": [
       "0    19\n",
       "1    23\n",
       "2     9\n",
       "3    27\n",
       "4    23\n",
       "Name: labels, dtype: int64"
      ]
     },
     "execution_count": 4,
     "metadata": {},
     "output_type": "execute_result"
    }
   ],
   "source": [
    "train_target.head()"
   ]
  },
  {
   "cell_type": "code",
   "execution_count": 5,
   "id": "9e552e87",
   "metadata": {
    "execution": {
     "iopub.execute_input": "2022-08-25T07:40:57.007688Z",
     "iopub.status.busy": "2022-08-25T07:40:57.007258Z",
     "iopub.status.idle": "2022-08-25T07:40:57.026922Z",
     "shell.execute_reply": "2022-08-25T07:40:57.025924Z"
    },
    "papermill": {
     "duration": 0.0289,
     "end_time": "2022-08-25T07:40:57.029225",
     "exception": false,
     "start_time": "2022-08-25T07:40:57.000325",
     "status": "completed"
    },
    "tags": []
   },
   "outputs": [
    {
     "data": {
      "text/html": [
       "<div>\n",
       "<style scoped>\n",
       "    .dataframe tbody tr th:only-of-type {\n",
       "        vertical-align: middle;\n",
       "    }\n",
       "\n",
       "    .dataframe tbody tr th {\n",
       "        vertical-align: top;\n",
       "    }\n",
       "\n",
       "    .dataframe thead th {\n",
       "        text-align: right;\n",
       "    }\n",
       "</style>\n",
       "<table border=\"1\" class=\"dataframe\">\n",
       "  <thead>\n",
       "    <tr style=\"text-align: right;\">\n",
       "      <th></th>\n",
       "      <th>p0</th>\n",
       "      <th>p1</th>\n",
       "      <th>p2</th>\n",
       "      <th>p3</th>\n",
       "      <th>p4</th>\n",
       "      <th>p5</th>\n",
       "      <th>p6</th>\n",
       "      <th>p7</th>\n",
       "      <th>p8</th>\n",
       "      <th>p9</th>\n",
       "      <th>...</th>\n",
       "      <th>p1014</th>\n",
       "      <th>p1015</th>\n",
       "      <th>p1016</th>\n",
       "      <th>p1017</th>\n",
       "      <th>p1018</th>\n",
       "      <th>p1019</th>\n",
       "      <th>p1020</th>\n",
       "      <th>p1021</th>\n",
       "      <th>p1022</th>\n",
       "      <th>p1023</th>\n",
       "    </tr>\n",
       "  </thead>\n",
       "  <tbody>\n",
       "    <tr>\n",
       "      <th>0</th>\n",
       "      <td>0</td>\n",
       "      <td>0</td>\n",
       "      <td>0</td>\n",
       "      <td>0</td>\n",
       "      <td>0</td>\n",
       "      <td>0</td>\n",
       "      <td>0</td>\n",
       "      <td>0</td>\n",
       "      <td>0</td>\n",
       "      <td>0</td>\n",
       "      <td>...</td>\n",
       "      <td>0</td>\n",
       "      <td>0</td>\n",
       "      <td>0</td>\n",
       "      <td>0</td>\n",
       "      <td>0</td>\n",
       "      <td>0</td>\n",
       "      <td>0</td>\n",
       "      <td>0</td>\n",
       "      <td>0</td>\n",
       "      <td>0</td>\n",
       "    </tr>\n",
       "    <tr>\n",
       "      <th>1</th>\n",
       "      <td>0</td>\n",
       "      <td>0</td>\n",
       "      <td>0</td>\n",
       "      <td>0</td>\n",
       "      <td>0</td>\n",
       "      <td>0</td>\n",
       "      <td>0</td>\n",
       "      <td>0</td>\n",
       "      <td>0</td>\n",
       "      <td>0</td>\n",
       "      <td>...</td>\n",
       "      <td>0</td>\n",
       "      <td>0</td>\n",
       "      <td>0</td>\n",
       "      <td>0</td>\n",
       "      <td>0</td>\n",
       "      <td>0</td>\n",
       "      <td>0</td>\n",
       "      <td>0</td>\n",
       "      <td>0</td>\n",
       "      <td>0</td>\n",
       "    </tr>\n",
       "    <tr>\n",
       "      <th>2</th>\n",
       "      <td>0</td>\n",
       "      <td>0</td>\n",
       "      <td>0</td>\n",
       "      <td>0</td>\n",
       "      <td>0</td>\n",
       "      <td>0</td>\n",
       "      <td>0</td>\n",
       "      <td>0</td>\n",
       "      <td>0</td>\n",
       "      <td>0</td>\n",
       "      <td>...</td>\n",
       "      <td>0</td>\n",
       "      <td>0</td>\n",
       "      <td>0</td>\n",
       "      <td>0</td>\n",
       "      <td>0</td>\n",
       "      <td>0</td>\n",
       "      <td>0</td>\n",
       "      <td>0</td>\n",
       "      <td>0</td>\n",
       "      <td>0</td>\n",
       "    </tr>\n",
       "    <tr>\n",
       "      <th>3</th>\n",
       "      <td>0</td>\n",
       "      <td>0</td>\n",
       "      <td>0</td>\n",
       "      <td>0</td>\n",
       "      <td>0</td>\n",
       "      <td>0</td>\n",
       "      <td>0</td>\n",
       "      <td>0</td>\n",
       "      <td>0</td>\n",
       "      <td>0</td>\n",
       "      <td>...</td>\n",
       "      <td>0</td>\n",
       "      <td>0</td>\n",
       "      <td>0</td>\n",
       "      <td>0</td>\n",
       "      <td>0</td>\n",
       "      <td>0</td>\n",
       "      <td>0</td>\n",
       "      <td>0</td>\n",
       "      <td>0</td>\n",
       "      <td>0</td>\n",
       "    </tr>\n",
       "    <tr>\n",
       "      <th>4</th>\n",
       "      <td>0</td>\n",
       "      <td>0</td>\n",
       "      <td>0</td>\n",
       "      <td>0</td>\n",
       "      <td>0</td>\n",
       "      <td>0</td>\n",
       "      <td>0</td>\n",
       "      <td>0</td>\n",
       "      <td>0</td>\n",
       "      <td>0</td>\n",
       "      <td>...</td>\n",
       "      <td>0</td>\n",
       "      <td>0</td>\n",
       "      <td>0</td>\n",
       "      <td>0</td>\n",
       "      <td>0</td>\n",
       "      <td>0</td>\n",
       "      <td>0</td>\n",
       "      <td>0</td>\n",
       "      <td>0</td>\n",
       "      <td>0</td>\n",
       "    </tr>\n",
       "  </tbody>\n",
       "</table>\n",
       "<p>5 rows × 1024 columns</p>\n",
       "</div>"
      ],
      "text/plain": [
       "   p0  p1  p2  p3  p4  p5  p6  p7  p8  p9  ...  p1014  p1015  p1016  p1017  \\\n",
       "0   0   0   0   0   0   0   0   0   0   0  ...      0      0      0      0   \n",
       "1   0   0   0   0   0   0   0   0   0   0  ...      0      0      0      0   \n",
       "2   0   0   0   0   0   0   0   0   0   0  ...      0      0      0      0   \n",
       "3   0   0   0   0   0   0   0   0   0   0  ...      0      0      0      0   \n",
       "4   0   0   0   0   0   0   0   0   0   0  ...      0      0      0      0   \n",
       "\n",
       "   p1018  p1019  p1020  p1021  p1022  p1023  \n",
       "0      0      0      0      0      0      0  \n",
       "1      0      0      0      0      0      0  \n",
       "2      0      0      0      0      0      0  \n",
       "3      0      0      0      0      0      0  \n",
       "4      0      0      0      0      0      0  \n",
       "\n",
       "[5 rows x 1024 columns]"
      ]
     },
     "execution_count": 5,
     "metadata": {},
     "output_type": "execute_result"
    }
   ],
   "source": [
    "test_features.head()"
   ]
  },
  {
   "cell_type": "markdown",
   "id": "108a092a",
   "metadata": {
    "papermill": {
     "duration": 0.005732,
     "end_time": "2022-08-25T07:40:57.040948",
     "exception": false,
     "start_time": "2022-08-25T07:40:57.035216",
     "status": "completed"
    },
    "tags": []
   },
   "source": [
    "# Create an estimator"
   ]
  },
  {
   "cell_type": "code",
   "execution_count": 6,
   "id": "0eb7f391",
   "metadata": {
    "execution": {
     "iopub.execute_input": "2022-08-25T07:40:57.054504Z",
     "iopub.status.busy": "2022-08-25T07:40:57.054102Z",
     "iopub.status.idle": "2022-08-25T07:40:57.122371Z",
     "shell.execute_reply": "2022-08-25T07:40:57.121343Z"
    },
    "papermill": {
     "duration": 0.078209,
     "end_time": "2022-08-25T07:40:57.125011",
     "exception": false,
     "start_time": "2022-08-25T07:40:57.046802",
     "status": "completed"
    },
    "tags": []
   },
   "outputs": [],
   "source": [
    "#change seed\n",
    "from sklearn.ensemble import RandomForestClassifier\n",
    "\n",
    "_seed = 5390399\n",
    "_estimator_hyperpararmeters = {\n",
    "    \"random_state\": np.random.RandomState(_seed),\n",
    "}\n",
    "estimatorForest = RandomForestClassifier(**_estimator_hyperpararmeters)\n",
    "#estimator = tree.DecisionTreeClassifier(**_estimator_hyperpararmeters)"
   ]
  },
  {
   "cell_type": "code",
   "execution_count": 7,
   "id": "56ff8978",
   "metadata": {
    "execution": {
     "iopub.execute_input": "2022-08-25T07:40:57.138848Z",
     "iopub.status.busy": "2022-08-25T07:40:57.137742Z",
     "iopub.status.idle": "2022-08-25T07:41:08.627880Z",
     "shell.execute_reply": "2022-08-25T07:41:08.626360Z"
    },
    "papermill": {
     "duration": 11.50014,
     "end_time": "2022-08-25T07:41:08.631074",
     "exception": false,
     "start_time": "2022-08-25T07:40:57.130934",
     "status": "completed"
    },
    "tags": []
   },
   "outputs": [
    {
     "data": {
      "text/plain": [
       "RandomForestClassifier(random_state=RandomState(MT19937) at 0x7F08E5186AF0)"
      ]
     },
     "execution_count": 7,
     "metadata": {},
     "output_type": "execute_result"
    }
   ],
   "source": [
    "estimatorForest.fit(train_features, train_target)"
   ]
  },
  {
   "cell_type": "code",
   "execution_count": 8,
   "id": "d2c43ffc",
   "metadata": {
    "execution": {
     "iopub.execute_input": "2022-08-25T07:41:08.644726Z",
     "iopub.status.busy": "2022-08-25T07:41:08.644261Z",
     "iopub.status.idle": "2022-08-25T07:41:32.599325Z",
     "shell.execute_reply": "2022-08-25T07:41:32.597807Z"
    },
    "papermill": {
     "duration": 23.965382,
     "end_time": "2022-08-25T07:41:32.602445",
     "exception": false,
     "start_time": "2022-08-25T07:41:08.637063",
     "status": "completed"
    },
    "tags": []
   },
   "outputs": [],
   "source": [
    "scores = model_selection.cross_val_score(\n",
    "    estimatorForest,\n",
    "    train_features,\n",
    "    train_target,\n",
    "    cv=5,\n",
    "    scoring=\"accuracy\",\n",
    "    n_jobs=-1,\n",
    ")"
   ]
  },
  {
   "cell_type": "code",
   "execution_count": 9,
   "id": "9f8def83",
   "metadata": {
    "execution": {
     "iopub.execute_input": "2022-08-25T07:41:32.616959Z",
     "iopub.status.busy": "2022-08-25T07:41:32.616191Z",
     "iopub.status.idle": "2022-08-25T07:41:32.623463Z",
     "shell.execute_reply": "2022-08-25T07:41:32.622097Z"
    },
    "papermill": {
     "duration": 0.017473,
     "end_time": "2022-08-25T07:41:32.625964",
     "exception": false,
     "start_time": "2022-08-25T07:41:32.608491",
     "status": "completed"
    },
    "tags": []
   },
   "outputs": [
    {
     "name": "stdout",
     "output_type": "stream",
     "text": [
      "Estimated validation error: 0.6386160714285714\n"
     ]
    }
   ],
   "source": [
    "print(f\"Estimated validation error: {scores.mean()}\")"
   ]
  },
  {
   "cell_type": "markdown",
   "id": "f8380e43",
   "metadata": {
    "papermill": {
     "duration": 0.005648,
     "end_time": "2022-08-25T07:41:32.637756",
     "exception": false,
     "start_time": "2022-08-25T07:41:32.632108",
     "status": "completed"
    },
    "tags": []
   },
   "source": [
    "# Make predictions"
   ]
  },
  {
   "cell_type": "code",
   "execution_count": 10,
   "id": "748e4bb5",
   "metadata": {
    "execution": {
     "iopub.execute_input": "2022-08-25T07:41:32.651648Z",
     "iopub.status.busy": "2022-08-25T07:41:32.650935Z",
     "iopub.status.idle": "2022-08-25T07:41:33.469032Z",
     "shell.execute_reply": "2022-08-25T07:41:33.467095Z"
    },
    "papermill": {
     "duration": 0.828523,
     "end_time": "2022-08-25T07:41:33.472142",
     "exception": false,
     "start_time": "2022-08-25T07:41:32.643619",
     "status": "completed"
    },
    "tags": []
   },
   "outputs": [
    {
     "name": "stdout",
     "output_type": "stream",
     "text": [
      "              precision    recall  f1-score   support\n",
      "\n",
      "           1       1.00      1.00      1.00       480\n",
      "           2       1.00      1.00      1.00       480\n",
      "           3       1.00      1.00      1.00       480\n",
      "           4       1.00      1.00      1.00       480\n",
      "           5       1.00      1.00      1.00       480\n",
      "           6       1.00      1.00      1.00       480\n",
      "           7       1.00      1.00      1.00       480\n",
      "           8       1.00      1.00      1.00       480\n",
      "           9       1.00      1.00      1.00       480\n",
      "          10       1.00      1.00      1.00       480\n",
      "          11       1.00      1.00      1.00       480\n",
      "          12       1.00      1.00      1.00       480\n",
      "          13       1.00      1.00      1.00       480\n",
      "          14       1.00      1.00      1.00       480\n",
      "          15       1.00      1.00      1.00       480\n",
      "          16       1.00      1.00      1.00       480\n",
      "          17       1.00      1.00      1.00       480\n",
      "          18       1.00      1.00      1.00       480\n",
      "          19       1.00      1.00      1.00       480\n",
      "          20       1.00      1.00      1.00       480\n",
      "          21       1.00      1.00      1.00       480\n",
      "          22       1.00      1.00      1.00       480\n",
      "          23       1.00      1.00      1.00       480\n",
      "          24       1.00      1.00      1.00       480\n",
      "          25       1.00      1.00      1.00       480\n",
      "          26       1.00      1.00      1.00       480\n",
      "          27       1.00      1.00      1.00       480\n",
      "          28       1.00      1.00      1.00       480\n",
      "\n",
      "    accuracy                           1.00     13440\n",
      "   macro avg       1.00      1.00      1.00     13440\n",
      "weighted avg       1.00      1.00      1.00     13440\n",
      "\n"
     ]
    }
   ],
   "source": [
    "# assess the error on the training data\n",
    "train_predictions = estimatorForest.predict(train_features)\n",
    "_report = metrics.classification_report(\n",
    "    train_target,\n",
    "    train_predictions\n",
    ")\n",
    "print(_report)"
   ]
  },
  {
   "cell_type": "code",
   "execution_count": 11,
   "id": "b97c4f55",
   "metadata": {
    "execution": {
     "iopub.execute_input": "2022-08-25T07:41:33.486295Z",
     "iopub.status.busy": "2022-08-25T07:41:33.485908Z",
     "iopub.status.idle": "2022-08-25T07:41:33.687846Z",
     "shell.execute_reply": "2022-08-25T07:41:33.686816Z"
    },
    "papermill": {
     "duration": 0.212324,
     "end_time": "2022-08-25T07:41:33.690583",
     "exception": false,
     "start_time": "2022-08-25T07:41:33.478259",
     "status": "completed"
    },
    "tags": []
   },
   "outputs": [
    {
     "data": {
      "text/plain": [
       "array([19,  9,  7, ..., 10,  4,  2])"
      ]
     },
     "execution_count": 11,
     "metadata": {},
     "output_type": "execute_result"
    }
   ],
   "source": [
    "# predict using the test data\n",
    "test_predictions = estimatorForest.predict(test_features)\n",
    "test_predictions"
   ]
  },
  {
   "cell_type": "markdown",
   "id": "ab04f043",
   "metadata": {
    "papermill": {
     "duration": 0.005849,
     "end_time": "2022-08-25T07:41:33.702837",
     "exception": false,
     "start_time": "2022-08-25T07:41:33.696988",
     "status": "completed"
    },
    "tags": []
   },
   "source": [
    "# Generate a submission file"
   ]
  },
  {
   "cell_type": "code",
   "execution_count": 12,
   "id": "429c4db2",
   "metadata": {
    "execution": {
     "iopub.execute_input": "2022-08-25T07:41:33.716973Z",
     "iopub.status.busy": "2022-08-25T07:41:33.716537Z",
     "iopub.status.idle": "2022-08-25T07:41:33.729323Z",
     "shell.execute_reply": "2022-08-25T07:41:33.728482Z"
    },
    "papermill": {
     "duration": 0.022475,
     "end_time": "2022-08-25T07:41:33.731583",
     "exception": false,
     "start_time": "2022-08-25T07:41:33.709108",
     "status": "completed"
    },
    "tags": []
   },
   "outputs": [],
   "source": [
    "_ = (pd.DataFrame\n",
    "       .from_dict({\"Id\": test_features.index, \"Category\": test_predictions})\n",
    "       .to_csv(\"submission.csv\", index=False))"
   ]
  },
  {
   "cell_type": "code",
   "execution_count": 13,
   "id": "9c5c2870",
   "metadata": {
    "execution": {
     "iopub.execute_input": "2022-08-25T07:41:33.746399Z",
     "iopub.status.busy": "2022-08-25T07:41:33.745999Z",
     "iopub.status.idle": "2022-08-25T07:41:33.982696Z",
     "shell.execute_reply": "2022-08-25T07:41:33.981565Z"
    },
    "papermill": {
     "duration": 0.247274,
     "end_time": "2022-08-25T07:41:33.984883",
     "exception": false,
     "start_time": "2022-08-25T07:41:33.737609",
     "status": "completed"
    },
    "tags": []
   },
   "outputs": [
    {
     "data": {
      "text/plain": [
       "<matplotlib.image.AxesImage at 0x7f08e3c70790>"
      ]
     },
     "execution_count": 13,
     "metadata": {},
     "output_type": "execute_result"
    },
    {
     "data": {
      "image/png": "[encoded data removed]",
      "text/plain": [
       "<Figure size 432x288 with 1 Axes>"
      ]
     },
     "metadata": {
      "needs_background": "light"
     },
     "output_type": "display_data"
    }
   ],
   "source": [
    "import matplotlib.pyplot as plt\n",
    "plt.imshow(test_features.values[0].reshape(32,32).transpose(1,0))"
   ]
  },
  {
   "cell_type": "code",
   "execution_count": 14,
   "id": "448a7655",
   "metadata": {
    "execution": {
     "iopub.execute_input": "2022-08-25T07:41:33.999375Z",
     "iopub.status.busy": "2022-08-25T07:41:33.998997Z",
     "iopub.status.idle": "2022-08-25T07:41:35.758410Z",
     "shell.execute_reply": "2022-08-25T07:41:35.757264Z"
    },
    "papermill": {
     "duration": 1.769604,
     "end_time": "2022-08-25T07:41:35.760834",
     "exception": false,
     "start_time": "2022-08-25T07:41:33.991230",
     "status": "completed"
    },
    "tags": []
   },
   "outputs": [
    {
     "data": {
      "text/plain": [
       "tensor([[0.6614, 0.2669],\n",
       "        [0.0617, 0.6213]])"
      ]
     },
     "execution_count": 14,
     "metadata": {},
     "output_type": "execute_result"
    }
   ],
   "source": [
    "import torch\n",
    "torch.manual_seed(1)\n",
    "torch.randn(2,2)"
   ]
  },
  {
   "cell_type": "code",
   "execution_count": 15,
   "id": "e6c077c2",
   "metadata": {
    "execution": {
     "iopub.execute_input": "2022-08-25T07:41:35.776407Z",
     "iopub.status.busy": "2022-08-25T07:41:35.775736Z",
     "iopub.status.idle": "2022-08-25T07:41:35.784560Z",
     "shell.execute_reply": "2022-08-25T07:41:35.783719Z"
    },
    "papermill": {
     "duration": 0.019503,
     "end_time": "2022-08-25T07:41:35.786881",
     "exception": false,
     "start_time": "2022-08-25T07:41:35.767378",
     "status": "completed"
    },
    "tags": []
   },
   "outputs": [
    {
     "data": {
      "text/plain": [
       "tensor([[-0.4519, -0.1661],\n",
       "        [-1.5228,  0.3817]])"
      ]
     },
     "execution_count": 15,
     "metadata": {},
     "output_type": "execute_result"
    }
   ],
   "source": [
    "torch.randn(2,2)"
   ]
  },
  {
   "cell_type": "code",
   "execution_count": null,
   "id": "11606e95",
   "metadata": {
    "papermill": {
     "duration": 0.006361,
     "end_time": "2022-08-25T07:41:35.800034",
     "exception": false,
     "start_time": "2022-08-25T07:41:35.793673",
     "status": "completed"
    },
    "tags": []
   },
   "outputs": [],
   "source": []
  }
 ],
 "metadata": {
  "kernelspec": {
   "display_name": "Python 3",
   "language": "python",
   "name": "python3"
  },
  "language_info": {
   "codemirror_mode": {
    "name": "ipython",
    "version": 3
   },
   "file_extension": ".py",
   "mimetype": "text/x-python",
   "name": "python",
   "nbconvert_exporter": "python",
   "pygments_lexer": "ipython3",
   "version": "3.7.12"
  },
  "papermill": {
   "default_parameters": {},
   "duration": 55.317547,
   "end_time": "2022-08-25T07:41:38.426993",
   "environment_variables": {},
   "exception": null,
   "input_path": "__notebook__.ipynb",
   "output_path": "__notebook__.ipynb",
   "parameters": {},
   "start_time": "2022-08-25T07:40:43.109446",
   "version": "2.3.4"
  }
 },
 "nbformat": 4,
 "nbformat_minor": 5
}
